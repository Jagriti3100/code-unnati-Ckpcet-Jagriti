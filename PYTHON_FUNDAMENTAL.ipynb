{
 "cells": [
  {
   "cell_type": "markdown",
   "id": "69022df0",
   "metadata": {},
   "source": [
    "# UNIT 1 PYTHON FUNDAMENTALS"
   ]
  },
  {
   "cell_type": "code",
   "execution_count": 1,
   "id": "64e5a251",
   "metadata": {},
   "outputs": [
    {
     "name": "stdout",
     "output_type": "stream",
     "text": [
      "Namaste CKPCET\n"
     ]
    }
   ],
   "source": [
    "print(\"Namaste CKPCET\")"
   ]
  },
  {
   "cell_type": "code",
   "execution_count": 2,
   "id": "2e59f18b",
   "metadata": {},
   "outputs": [
    {
     "name": "stdout",
     "output_type": "stream",
     "text": [
      "hello Surat!\n"
     ]
    }
   ],
   "source": [
    "print(\"hello Surat!\")"
   ]
  },
  {
   "cell_type": "code",
   "execution_count": 3,
   "id": "339b4ec8",
   "metadata": {},
   "outputs": [
    {
     "data": {
      "text/plain": [
       "1"
      ]
     },
     "execution_count": 3,
     "metadata": {},
     "output_type": "execute_result"
    }
   ],
   "source": [
    "a=1\n",
    "a"
   ]
  },
  {
   "cell_type": "code",
   "execution_count": 4,
   "id": "ffc53f49",
   "metadata": {},
   "outputs": [],
   "source": [
    "A=1\n",
    "B=1.1\n",
    "C=\"CKPCET\"\n",
    "D=True"
   ]
  },
  {
   "cell_type": "code",
   "execution_count": 5,
   "id": "e2b109da",
   "metadata": {},
   "outputs": [
    {
     "data": {
      "text/plain": [
       "'CKPCET'"
      ]
     },
     "execution_count": 5,
     "metadata": {},
     "output_type": "execute_result"
    }
   ],
   "source": [
    "C"
   ]
  },
  {
   "cell_type": "code",
   "execution_count": 7,
   "id": "3b7356ed",
   "metadata": {},
   "outputs": [],
   "source": [
    "a=1\n",
    "b=7.8\n",
    "c=\"jagriti\"\n",
    "d=False\n",
    "e=\"_123\"\n",
    "f=\"ckpcet\"\n",
    "h=\"keep it up\"\n",
    "i=423\n",
    "j=\"study\"\n",
    "k=9004\n",
    "l=True\n",
    "m=0\n",
    "n=3.5\n",
    "o=5\n",
    "\n",
    "\n"
   ]
  },
  {
   "cell_type": "code",
   "execution_count": 9,
   "id": "fc74f3f1",
   "metadata": {},
   "outputs": [
    {
     "data": {
      "text/plain": [
       "str"
      ]
     },
     "execution_count": 9,
     "metadata": {},
     "output_type": "execute_result"
    }
   ],
   "source": [
    "type(e)"
   ]
  },
  {
   "cell_type": "code",
   "execution_count": 10,
   "id": "5c4cbca9",
   "metadata": {},
   "outputs": [
    {
     "data": {
      "text/plain": [
       "str"
      ]
     },
     "execution_count": 10,
     "metadata": {},
     "output_type": "execute_result"
    }
   ],
   "source": [
    "type(j)"
   ]
  },
  {
   "cell_type": "code",
   "execution_count": 11,
   "id": "4136f75e",
   "metadata": {},
   "outputs": [
    {
     "data": {
      "text/plain": [
       "1.1"
      ]
     },
     "execution_count": 11,
     "metadata": {},
     "output_type": "execute_result"
    }
   ],
   "source": [
    "var1=B/A\n",
    "var1"
   ]
  },
  {
   "cell_type": "code",
   "execution_count": 12,
   "id": "6293d306",
   "metadata": {},
   "outputs": [
    {
     "data": {
      "text/plain": [
       "17.5"
      ]
     },
     "execution_count": 12,
     "metadata": {},
     "output_type": "execute_result"
    }
   ],
   "source": [
    "x=n*o\n",
    "x"
   ]
  },
  {
   "cell_type": "code",
   "execution_count": 13,
   "id": "da07e794",
   "metadata": {},
   "outputs": [
    {
     "data": {
      "text/plain": [
       "8581"
      ]
     },
     "execution_count": 13,
     "metadata": {},
     "output_type": "execute_result"
    }
   ],
   "source": [
    "y=k-i\n",
    "y"
   ]
  },
  {
   "cell_type": "code",
   "execution_count": 14,
   "id": "1da3e012",
   "metadata": {},
   "outputs": [
    {
     "data": {
      "text/plain": [
       "17.3"
      ]
     },
     "execution_count": 14,
     "metadata": {},
     "output_type": "execute_result"
    }
   ],
   "source": [
    "z=a+b+n+o\n",
    "z"
   ]
  },
  {
   "cell_type": "code",
   "execution_count": 15,
   "id": "2006e2ee",
   "metadata": {},
   "outputs": [
    {
     "data": {
      "text/plain": [
       "-1.0"
      ]
     },
     "execution_count": 15,
     "metadata": {},
     "output_type": "execute_result"
    }
   ],
   "source": [
    "var2=(a+b)*m-a\n",
    "var2"
   ]
  },
  {
   "cell_type": "code",
   "execution_count": 16,
   "id": "2a445840",
   "metadata": {},
   "outputs": [
    {
     "name": "stdout",
     "output_type": "stream",
     "text": [
      "enter the value of x:4\n",
      "enter the value of y:2\n"
     ]
    }
   ],
   "source": [
    "x=int(input(\"enter the value of x:\"))\n",
    "y=int(input(\"enter the value of y:\"))"
   ]
  },
  {
   "cell_type": "code",
   "execution_count": 17,
   "id": "faf01496",
   "metadata": {},
   "outputs": [
    {
     "data": {
      "text/plain": [
       "4"
      ]
     },
     "execution_count": 17,
     "metadata": {},
     "output_type": "execute_result"
    }
   ],
   "source": [
    "x"
   ]
  },
  {
   "cell_type": "code",
   "execution_count": 18,
   "id": "2c68afe7",
   "metadata": {},
   "outputs": [
    {
     "data": {
      "text/plain": [
       "2"
      ]
     },
     "execution_count": 18,
     "metadata": {},
     "output_type": "execute_result"
    }
   ],
   "source": [
    "y"
   ]
  },
  {
   "cell_type": "code",
   "execution_count": 19,
   "id": "00d89b95",
   "metadata": {},
   "outputs": [
    {
     "data": {
      "text/plain": [
       "6"
      ]
     },
     "execution_count": 19,
     "metadata": {},
     "output_type": "execute_result"
    }
   ],
   "source": [
    "x+y"
   ]
  },
  {
   "cell_type": "code",
   "execution_count": 21,
   "id": "0c5d8dac",
   "metadata": {
    "scrolled": true
   },
   "outputs": [
    {
     "name": "stdout",
     "output_type": "stream",
     "text": [
      "2\n",
      "8\n",
      "False\n"
     ]
    }
   ],
   "source": [
    "a=x-y\n",
    "b=x*y\n",
    "c=x/y\n",
    "print(a)\n",
    "print(b)\n",
    "print(d)"
   ]
  },
  {
   "cell_type": "code",
   "execution_count": 22,
   "id": "e24cd3a4",
   "metadata": {},
   "outputs": [
    {
     "data": {
      "text/plain": [
       "'JagritiAjeetSingh'"
      ]
     },
     "execution_count": 22,
     "metadata": {},
     "output_type": "execute_result"
    }
   ],
   "source": [
    "#string Concatenation\n",
    "str1=\"Jagriti\"\n",
    "str2=\"Ajeet\"\n",
    "str3=\"Singh\"\n",
    "str4=str1+str2+str3\n",
    "str4"
   ]
  },
  {
   "cell_type": "code",
   "execution_count": 23,
   "id": "f7fcc3c8",
   "metadata": {},
   "outputs": [
    {
     "name": "stdout",
     "output_type": "stream",
     "text": [
      "17\n"
     ]
    }
   ],
   "source": [
    "print(len(str4))"
   ]
  },
  {
   "cell_type": "code",
   "execution_count": 26,
   "id": "b4cf5007",
   "metadata": {},
   "outputs": [
    {
     "data": {
      "text/plain": [
       "'Singh'"
      ]
     },
     "execution_count": 26,
     "metadata": {},
     "output_type": "execute_result"
    }
   ],
   "source": [
    "#string slicing\n",
    "str4[12:17]"
   ]
  },
  {
   "cell_type": "code",
   "execution_count": 27,
   "id": "4aca567e",
   "metadata": {},
   "outputs": [
    {
     "name": "stdout",
     "output_type": "stream",
     "text": [
      "('jaunpur', 1, 'surat', 7.6, 'goa', 2898)\n",
      "<class 'tuple'>\n"
     ]
    }
   ],
   "source": [
    "#create tupple\n",
    "tup1=(\"jaunpur\",1,\"surat\",7.6,\"goa\",2898)\n",
    "print(tup1)\n",
    "print(type(tup1))"
   ]
  },
  {
   "cell_type": "code",
   "execution_count": 28,
   "id": "3956491c",
   "metadata": {},
   "outputs": [
    {
     "data": {
      "text/plain": [
       "1"
      ]
     },
     "execution_count": 28,
     "metadata": {},
     "output_type": "execute_result"
    }
   ],
   "source": [
    "tup1[1]"
   ]
  },
  {
   "cell_type": "code",
   "execution_count": 30,
   "id": "8fe87158",
   "metadata": {},
   "outputs": [
    {
     "data": {
      "text/plain": [
       "('jaunpur', 1, 'surat')"
      ]
     },
     "execution_count": 30,
     "metadata": {},
     "output_type": "execute_result"
    }
   ],
   "source": [
    "tup1[0:3]"
   ]
  },
  {
   "cell_type": "markdown",
   "id": "9ad36520",
   "metadata": {},
   "source": [
    "# List in python"
   ]
  },
  {
   "cell_type": "markdown",
   "id": "0856bfc0",
   "metadata": {},
   "source": [
    "# create list\n",
    "\n",
    "list2=[\"work\",1,\"concentration\",9.9,2,\"pin\",9.99,10]\n",
    "print(list2)\n",
    "print(type(list2))"
   ]
  },
  {
   "cell_type": "code",
   "execution_count": 35,
   "id": "bbd13a2f",
   "metadata": {},
   "outputs": [],
   "source": [
    "list2.remove(1)"
   ]
  },
  {
   "cell_type": "code",
   "execution_count": 36,
   "id": "7b75d762",
   "metadata": {},
   "outputs": [
    {
     "data": {
      "text/plain": [
       "['work', 'concentration', 9.9, 2, 'pin', 9.99, 10]"
      ]
     },
     "execution_count": 36,
     "metadata": {},
     "output_type": "execute_result"
    }
   ],
   "source": [
    "list2"
   ]
  },
  {
   "cell_type": "markdown",
   "id": "68b42edd",
   "metadata": {},
   "source": [
    "# Dicstionary"
   ]
  },
  {
   "cell_type": "code",
   "execution_count": 38,
   "id": "6a87a9e4",
   "metadata": {},
   "outputs": [
    {
     "name": "stdout",
     "output_type": "stream",
     "text": [
      "{'ckpcet': 'BE', 'artificial intelligance': 'Electrical'}\n"
     ]
    }
   ],
   "source": [
    "dict1={\"ckpcet\":\"BE\",\"artificial intelligance\":\"Electrical\"}\n",
    "print(dict1)"
   ]
  },
  {
   "cell_type": "markdown",
   "id": "bfaeeee1",
   "metadata": {},
   "source": [
    "# python Conditonal Statement"
   ]
  },
  {
   "cell_type": "code",
   "execution_count": 39,
   "id": "a95f7e40",
   "metadata": {},
   "outputs": [
    {
     "name": "stdout",
     "output_type": "stream",
     "text": [
      "15 is a positive number\n",
      "This statement is true\n"
     ]
    }
   ],
   "source": [
    "#if statement\n",
    "num=15\n",
    "if num>10:\n",
    "    print(num,\"is a positive number\")\n",
    "    print(\"This statement is true\")"
   ]
  },
  {
   "cell_type": "code",
   "execution_count": 40,
   "id": "30bf191a",
   "metadata": {},
   "outputs": [
    {
     "ename": "SyntaxError",
     "evalue": "invalid syntax (3560090166.py, line 5)",
     "output_type": "error",
     "traceback": [
      "\u001b[1;36m  Input \u001b[1;32mIn [40]\u001b[1;36m\u001b[0m\n\u001b[1;33m    else\u001b[0m\n\u001b[1;37m        ^\u001b[0m\n\u001b[1;31mSyntaxError\u001b[0m\u001b[1;31m:\u001b[0m invalid syntax\n"
     ]
    }
   ],
   "source": [
    "#if else statement\n",
    "num=5\n",
    "if num>0:\n",
    "    print(num,\"is a positive number\")\n",
    "else\n",
    "    print(num,\"is a negative number\")"
   ]
  },
  {
   "cell_type": "code",
   "execution_count": null,
   "id": "b13e54e6",
   "metadata": {},
   "outputs": [],
   "source": []
  }
 ],
 "metadata": {
  "kernelspec": {
   "display_name": "Python 3 (ipykernel)",
   "language": "python",
   "name": "python3"
  },
  "language_info": {
   "codemirror_mode": {
    "name": "ipython",
    "version": 3
   },
   "file_extension": ".py",
   "mimetype": "text/x-python",
   "name": "python",
   "nbconvert_exporter": "python",
   "pygments_lexer": "ipython3",
   "version": "3.9.12"
  }
 },
 "nbformat": 4,
 "nbformat_minor": 5
}
